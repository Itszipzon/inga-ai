{
 "cells": [
  {
   "cell_type": "code",
   "execution_count": 19,
   "metadata": {},
   "outputs": [],
   "source": [
    "import numpy as np"
   ]
  },
  {
   "cell_type": "code",
   "execution_count": 31,
   "metadata": {},
   "outputs": [],
   "source": [
    "def calculate_material_co2(type, weight):\n",
    "\n",
    "    materials = {\n",
    "        \"steel\": 1.37,\n",
    "        \"stainless_steel\": 6.15,\n",
    "        \"stainless steel\": 6.15,\n",
    "        \"aluminium\": 8.24,\n",
    "        \"aluminum\": 8.24,\n",
    "        \"copper\": 2.6\n",
    "    }\n",
    "    \n",
    "    if type in materials:\n",
    "        return materials[type] * weight\n",
    "    return 0"
   ]
  },
  {
   "cell_type": "code",
   "execution_count": null,
   "metadata": {},
   "outputs": [],
   "source": []
  },
  {
   "cell_type": "code",
   "execution_count": 32,
   "metadata": {},
   "outputs": [],
   "source": [
    "def calculate_lca(\n",
    "    training_energy_kwh,\n",
    "    training_duration_hours,\n",
    "    carbon_intensity_kgCO2_per_kWh,\n",
    "    inference_energy_per_query_kwh,\n",
    "    avg_queries_per_day,\n",
    "    model_lifetime_years,\n",
    "    material_savings_kgCO2\n",
    "):\n",
    "    \"\"\"\n",
    "    Beregner LCA for en AI-modell basert på brukerinput.\n",
    "    \n",
    "    :param training_energy_kwh: Strømforbruk (kWh) per time for trening\n",
    "    :param training_duration_hours: Antall timer modellen trenes\n",
    "    :param carbon_intensity_kgCO2_per_kWh: CO2-utslipp per kWh strøm\n",
    "    :param inference_energy_per_query_kwh: Strømforbruk per forespørsel under inferens\n",
    "    :param avg_queries_per_day: Gjennomsnittlig antall forespørsler per dag\n",
    "    :param model_lifetime_years: Antall år modellen er i bruk\n",
    "    :param material_savings_kgCO2: CO2 spart ved materialoptimalisering\n",
    "    :return: Totalt karbonavtrykk av modellen med materialbesparelser\n",
    "    \"\"\"\n",
    "    \n",
    "    training_emissions = training_energy_kwh * training_duration_hours * carbon_intensity_kgCO2_per_kWh\n",
    "    \n",
    "    inference_emissions = (\n",
    "        inference_energy_per_query_kwh * avg_queries_per_day * 365 * model_lifetime_years * carbon_intensity_kgCO2_per_kWh\n",
    "    )\n",
    "    \n",
    "    total_emissions = training_emissions + inference_emissions\n",
    "    \n",
    "    net_emissions = total_emissions - material_savings_kgCO2\n",
    "    \n",
    "    return {\n",
    "        \"Trening Forbruk\": training_emissions,\n",
    "        \"Forespørsel Forbruk\": inference_emissions,\n",
    "        \"Totalt Forbruk\": total_emissions,\n",
    "        \"Materialbesparelse\": material_savings_kgCO2,\n",
    "        \"Netto Karbonavtrykk\": net_emissions,\n",
    "    }\n"
   ]
  },
  {
   "cell_type": "code",
   "execution_count": 33,
   "metadata": {},
   "outputs": [
    {
     "name": "stdout",
     "output_type": "stream",
     "text": [
      "\n",
      "LCA-beregning for AI-modellen:\n",
      "\n",
      "Type                    | Mengde CO2 i kg\n",
      "---------------------------------------------------\n",
      "Trening Forbruk         | 7500000.00\n",
      "Forespørsel Forbruk     | 273750.00\n",
      "Totalt Forbruk          | 7773750.00\n",
      "Materialbesparelse      | 11016000.00\n",
      "Netto Karbonavtrykk     | -3242250.00\n"
     ]
    }
   ],
   "source": [
    "if __name__ == \"__main__\":\n",
    "\n",
    "    steel = calculate_material_co2(\"steel\", 600000)\n",
    "    stainless_steel = calculate_material_co2(\"stainless steel\", 600000)\n",
    "    aluminium = calculate_material_co2(\"aluminium\", 600000)\n",
    "    copper = calculate_material_co2(\"copper\", 600000)\n",
    "\n",
    "    training_energy_kwh = 500 # Strømforbruk under trening (kWh/time)\n",
    "    training_duration_hours = 30000 # Total treningsvarighet (timer)\n",
    "    carbon_intensity_kgCO2_per_kWh = 0.5 # CO2-intensitet i strømnettet (kg CO2/kWh)\n",
    "    inference_energy_per_query_kwh = 0.0005 # Strømforbruk per forespørsel (kWh)\n",
    "    avg_queries_per_day = 1000000 # Antall forespørsler per dag\n",
    "    model_lifetime_years = 3 # Forventet levetid for modellen (år)\n",
    "    material_savings_kgCO2 = steel + stainless_steel + aluminium + copper # CO2 spart ved materialoptimalisering (kg CO2)\n",
    "\n",
    "    results = calculate_lca(\n",
    "        training_energy_kwh,\n",
    "        training_duration_hours,\n",
    "        carbon_intensity_kgCO2_per_kWh,\n",
    "        inference_energy_per_query_kwh,\n",
    "        avg_queries_per_day,\n",
    "        model_lifetime_years,\n",
    "        material_savings_kgCO2\n",
    "    )\n",
    "\n",
    "    print(\"\\nLCA-beregning for AI-modellen:\")\n",
    "    print(f\"\\nType{'':<20}| Mengde CO2 i kg\\n---------------------------------------------------\")\n",
    "    for key, value in results.items():\n",
    "        print(f\"{key:<24}| {value:.2f}\")\n"
   ]
  },
  {
   "cell_type": "code",
   "execution_count": null,
   "metadata": {},
   "outputs": [],
   "source": []
  },
  {
   "cell_type": "code",
   "execution_count": null,
   "metadata": {},
   "outputs": [],
   "source": []
  }
 ],
 "metadata": {
  "kernelspec": {
   "display_name": "Python 3",
   "language": "python",
   "name": "python3"
  },
  "language_info": {
   "codemirror_mode": {
    "name": "ipython",
    "version": 3
   },
   "file_extension": ".py",
   "mimetype": "text/x-python",
   "name": "python",
   "nbconvert_exporter": "python",
   "pygments_lexer": "ipython3",
   "version": "3.10.6"
  }
 },
 "nbformat": 4,
 "nbformat_minor": 2
}

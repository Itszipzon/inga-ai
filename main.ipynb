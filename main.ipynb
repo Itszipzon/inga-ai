{
 "cells": [
  {
   "cell_type": "code",
   "execution_count": 1,
   "metadata": {},
   "outputs": [],
   "source": [
    "import numpy as np"
   ]
  },
  {
   "cell_type": "code",
   "execution_count": 2,
   "metadata": {},
   "outputs": [],
   "source": [
    "\n",
    "def calculate_lca(\n",
    "    training_energy_kwh,\n",
    "    training_duration_hours,\n",
    "    carbon_intensity_kgCO2_per_kWh,\n",
    "    inference_energy_per_query_kwh,\n",
    "    avg_queries_per_day,\n",
    "    model_lifetime_years\n",
    "):\n",
    "    \"\"\"\n",
    "    Beregner LCA for en AI-modell basert på brukerinput.\n",
    "    \n",
    "    :param training_energy_kwh: Strømforbruk (kWh) per time for trening\n",
    "    :param training_duration_hours: Antall timer modellen trenes\n",
    "    :param carbon_intensity_kgCO2_per_kWh: CO2-utslipp per kWh strøm\n",
    "    :param inference_energy_per_query_kwh: Strømforbruk per forespørsel under inferens\n",
    "    :param avg_queries_per_day: Gjennomsnittlig antall forespørsler per dag\n",
    "    :param model_lifetime_years: Antall år modellen er i bruk\n",
    "    :return: Totalt karbonavtrykk av modellen\n",
    "    \"\"\"\n",
    "    \n",
    "    training_emissions = training_energy_kwh * training_duration_hours * carbon_intensity_kgCO2_per_kWh\n",
    "    \n",
    "    \n",
    "    inference_emissions = (\n",
    "        inference_energy_per_query_kwh * avg_queries_per_day * 365 * model_lifetime_years * carbon_intensity_kgCO2_per_kWh\n",
    "    )\n",
    "    \n",
    "    \n",
    "    total_emissions = training_emissions + inference_emissions\n",
    "    \n",
    "    return {\n",
    "        \"Training Emissions (kg CO2)\": training_emissions,\n",
    "        \"Inference Emissions (kg CO2)\": inference_emissions,\n",
    "        \"Total Emissions (kg CO2)\": total_emissions,\n",
    "    }"
   ]
  },
  {
   "cell_type": "code",
   "execution_count": 24,
   "metadata": {},
   "outputs": [
    {
     "name": "stdout",
     "output_type": "stream",
     "text": [
      "\n",
      "LCA-beregning for AI-modellen:\n",
      "\n",
      "Type                          | Amount C02 in kg\n",
      "---------------------------------------------------\n",
      "Training Emissions (kg CO2)   | 7500000.00\n",
      "Inference Emissions (kg CO2)  | 273750.00\n",
      "Total Emissions (kg CO2)      | 7773750.00\n"
     ]
    }
   ],
   "source": [
    "if __name__ == \"__main__\":\n",
    "    training_energy_kwh = 500 # Strømforbruk under trening (kWh/time)\n",
    "    training_duration_hours = 30000 # Total treningsvarighet (timer)\n",
    "    carbon_intensity_kgCO2_per_kWh = 0.5 # CO2-intensitet i strømnettet (kg CO2/kWh)\n",
    "    inference_energy_per_query_kwh = 0.0005 # Strømforbruk per forespørsel (kWh)\n",
    "    avg_queries_per_day = 1000000 # Antall forespørsler per dag\n",
    "    model_lifetime_years = 3 # Forventet levetid for modellen (år)\n",
    "\n",
    "    results = calculate_lca(\n",
    "        training_energy_kwh,\n",
    "        training_duration_hours,\n",
    "        carbon_intensity_kgCO2_per_kWh,\n",
    "        inference_energy_per_query_kwh,\n",
    "        avg_queries_per_day,\n",
    "        model_lifetime_years,\n",
    "    )\n",
    "\n",
    "    print(\"\\nLCA-beregning for AI-modellen:\")\n",
    "    print(f\"\\nType{'':<26}| Amount C02 in kg\\n---------------------------------------------------\")\n",
    "    for key, value in results.items():\n",
    "        print(f\"{key:<30}| {value:.2f}\")\n"
   ]
  },
  {
   "cell_type": "code",
   "execution_count": null,
   "metadata": {},
   "outputs": [],
   "source": []
  }
 ],
 "metadata": {
  "kernelspec": {
   "display_name": "Python 3",
   "language": "python",
   "name": "python3"
  },
  "language_info": {
   "codemirror_mode": {
    "name": "ipython",
    "version": 3
   },
   "file_extension": ".py",
   "mimetype": "text/x-python",
   "name": "python",
   "nbconvert_exporter": "python",
   "pygments_lexer": "ipython3",
   "version": "3.10.6"
  }
 },
 "nbformat": 4,
 "nbformat_minor": 2
}

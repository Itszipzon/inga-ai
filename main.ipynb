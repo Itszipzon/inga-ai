{
 "cells": [
  {
   "cell_type": "code",
   "execution_count": 6,
   "metadata": {},
   "outputs": [],
   "source": [
    "import numpy as np"
   ]
  },
  {
   "cell_type": "code",
   "execution_count": 7,
   "metadata": {},
   "outputs": [],
   "source": [
    "def calculate_material_co2(type, weight):\n",
    "\n",
    "    materials = {\n",
    "        \"steel\": 1.37,\n",
    "        \"stainless_steel\": 6.15,\n",
    "        \"stainless steel\": 6.15,\n",
    "        \"aluminium\": 8.24,\n",
    "        \"aluminum\": 8.24,\n",
    "        \"copper\": 2.6\n",
    "    }\n",
    "    \n",
    "    if type in materials:\n",
    "        return materials[type] * weight\n",
    "    return 0"
   ]
  },
  {
   "cell_type": "code",
   "execution_count": 8,
   "metadata": {},
   "outputs": [],
   "source": [
    "def calculate_lca(\n",
    "    training_energy_kwh,\n",
    "    training_duration_hours,\n",
    "    carbon_intensity_kgCO2_per_kWh,\n",
    "    inference_energy_per_query_kwh,\n",
    "    avg_queries_per_day,\n",
    "    model_lifetime_years,\n",
    "):\n",
    "    \"\"\"\n",
    "    Beregner LCA for en AI-modell basert på brukerinput.\n",
    "    \n",
    "    :param training_energy_kwh: Strømforbruk (kWh) per time for trening\n",
    "    :param training_duration_hours: Antall timer modellen trenes\n",
    "    :param carbon_intensity_kgCO2_per_kWh: CO2-utslipp per kWh strøm\n",
    "    :param inference_energy_per_query_kwh: Strømforbruk per forespørsel under inferens\n",
    "    :param avg_queries_per_day: Gjennomsnittlig antall forespørsler per dag\n",
    "    :param model_lifetime_years: Antall år modellen er i bruk\n",
    "    :param material_savings_kgCO2: CO2 spart ved materialoptimalisering\n",
    "    :return: Totalt karbonavtrykk av modellen med materialbesparelser\n",
    "    \"\"\"\n",
    "    \n",
    "    training_emissions = training_energy_kwh * training_duration_hours * carbon_intensity_kgCO2_per_kWh\n",
    "    \n",
    "    inference_emissions = (\n",
    "        inference_energy_per_query_kwh * avg_queries_per_day * 365 * model_lifetime_years * carbon_intensity_kgCO2_per_kWh\n",
    "    )\n",
    "    \n",
    "    total_emissions = training_emissions + inference_emissions\n",
    "    \n",
    "    return {\n",
    "        \"Trening Forbruk\": training_emissions,\n",
    "        \"Forespørsel Forbruk\": inference_emissions,\n",
    "        \"Totalt Forbruk\": total_emissions,\n",
    "    }\n"
   ]
  },
  {
   "cell_type": "code",
   "execution_count": 9,
   "metadata": {},
   "outputs": [],
   "source": [
    "def calculate_mfa(LCA, material_savings_kgCO2):\n",
    "  \"\"\"\n",
    "    Beregner materialbesparelser i kgCO2e basert på LCA og materialbesparelser.\n",
    "    \n",
    "    :param LCA: Totalt karbonavtrykk av modellen\n",
    "    :param material_savings_kgCO2: CO2 spart ved materialoptimalisering\n",
    "    :return: Totalt karbonavtrykk av modellen med materialbesparelser\n",
    "  \"\"\"\n",
    "    \n",
    "  total_emissions = LCA[\"Totalt Forbruk\"]\n",
    "    \n",
    "  total_emissions -= material_savings_kgCO2\n",
    "    \n",
    "  return {\n",
    "          \"Materialbesparelser\": material_savings_kgCO2,\n",
    "          \"Netto Karbonavtrykk\": total_emissions,\n",
    "        }"
   ]
  },
  {
   "cell_type": "code",
   "execution_count": null,
   "metadata": {},
   "outputs": [],
   "source": []
  },
  {
   "cell_type": "code",
   "execution_count": 20,
   "metadata": {},
   "outputs": [
    {
     "name": "stdout",
     "output_type": "stream",
     "text": [
      "\n",
      "LCA og MFA-beregninger for AI-modellen:\n",
      "\n",
      "Type                    | Mengde CO2 i kg\n",
      "---------------------------------------------------\n",
      "Trening Forbruk         | 48180.00\n",
      "Forespørsel Forbruk     | 6.02\n",
      "Totalt Forbruk          | 48186.02\n",
      "Materialbesparelser     | 478260.00\n",
      "Netto Karbonavtrykk     | -430073.98\n"
     ]
    }
   ],
   "source": [
    "if __name__ == \"__main__\":\n",
    "\n",
    "    training_energy_kwh = 500 # Strømforbruk under trening (kWh/time)\n",
    "    training_duration_hours = 8760 # Total treningsvarighet (timer)\n",
    "    carbon_intensity_kgCO2_per_kWh = 0.011 # CO2-intensitet i strømnettet (kg CO2/kWh)\n",
    "    inference_energy_per_query_kwh = 0.0005 # Strømforbruk per forespørsel (kWh)\n",
    "    avg_queries_per_day = 1000 # Antall forespørsler per dag\n",
    "    model_lifetime_years = 1 # Forventet levetid for modellen (år)\n",
    "\n",
    "    steel = calculate_material_co2(\"steel\", 60*1000*model_lifetime_years)\n",
    "    stainless_steel = calculate_material_co2(\"stainless steel\", 60*100*model_lifetime_years)\n",
    "    aluminium = calculate_material_co2(\"aluminium\", 60*50*model_lifetime_years)\n",
    "    copper = calculate_material_co2(\"copper\", 60*100*model_lifetime_years)\n",
    "    material_savings_kgCO2 = steel + stainless_steel + aluminium + copper # CO2 spart ved materialoptimalisering (kg CO2)\n",
    "\n",
    "    lca = calculate_lca(\n",
    "        training_energy_kwh,\n",
    "        training_duration_hours,\n",
    "        carbon_intensity_kgCO2_per_kWh,\n",
    "        inference_energy_per_query_kwh,\n",
    "        avg_queries_per_day,\n",
    "        model_lifetime_years\n",
    "    )\n",
    "\n",
    "    mfa = calculate_mfa(lca, material_savings_kgCO2)\n",
    "\n",
    "    print(\"\\nLCA og MFA-beregninger for AI-modellen:\")\n",
    "    print(f\"\\nType{'':<20}| Mengde CO2 i kg\\n---------------------------------------------------\")\n",
    "    for key, value in lca.items():\n",
    "        print(f\"{key:<24}| {value:.2f}\")\n",
    "    for key, value in mfa.items():\n",
    "        print(f\"{key:<24}| {value:.2f}\")\n"
   ]
  },
  {
   "cell_type": "code",
   "execution_count": null,
   "metadata": {},
   "outputs": [],
   "source": []
  },
  {
   "cell_type": "code",
   "execution_count": null,
   "metadata": {},
   "outputs": [],
   "source": []
  }
 ],
 "metadata": {
  "kernelspec": {
   "display_name": "Python 3",
   "language": "python",
   "name": "python3"
  },
  "language_info": {
   "codemirror_mode": {
    "name": "ipython",
    "version": 3
   },
   "file_extension": ".py",
   "mimetype": "text/x-python",
   "name": "python",
   "nbconvert_exporter": "python",
   "pygments_lexer": "ipython3",
   "version": "3.10.6"
  }
 },
 "nbformat": 4,
 "nbformat_minor": 2
}
